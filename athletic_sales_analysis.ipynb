{
 "cells": [
  {
   "cell_type": "code",
   "execution_count": 159,
   "metadata": {},
   "outputs": [],
   "source": [
    "# Import Libraries and Dependencies\n",
    "import pandas as pd"
   ]
  },
  {
   "cell_type": "markdown",
   "metadata": {},
   "source": [
    "### 1. Combine and Clean the Data\n",
    "#### Import CSVs"
   ]
  },
  {
   "cell_type": "code",
   "execution_count": 160,
   "metadata": {},
   "outputs": [],
   "source": [
    "# Read the CSV files into DataFrames.\n",
    "df_2020 = pd.read_csv('Resources/athletic_sales_2020.csv')"
   ]
  },
  {
   "cell_type": "code",
   "execution_count": 161,
   "metadata": {},
   "outputs": [],
   "source": [
    "# Display the 2020 sales DataFrame\n",
    "df = pd.read_csv('Resources/athletic_sales_2020.csv')\n",
    "df_2021 = pd.read_csv('Resources/athletic_sales_2021.csv')"
   ]
  },
  {
   "cell_type": "code",
   "execution_count": 162,
   "metadata": {},
   "outputs": [
    {
     "data": {
      "text/html": [
       "<div>\n",
       "<style scoped>\n",
       "    .dataframe tbody tr th:only-of-type {\n",
       "        vertical-align: middle;\n",
       "    }\n",
       "\n",
       "    .dataframe tbody tr th {\n",
       "        vertical-align: top;\n",
       "    }\n",
       "\n",
       "    .dataframe thead th {\n",
       "        text-align: right;\n",
       "    }\n",
       "</style>\n",
       "<table border=\"1\" class=\"dataframe\">\n",
       "  <thead>\n",
       "    <tr style=\"text-align: right;\">\n",
       "      <th></th>\n",
       "      <th>retailer</th>\n",
       "      <th>retailer_id</th>\n",
       "      <th>invoice_date</th>\n",
       "      <th>region</th>\n",
       "      <th>state</th>\n",
       "      <th>city</th>\n",
       "      <th>product</th>\n",
       "      <th>price_per_unit</th>\n",
       "      <th>units_sold</th>\n",
       "      <th>total_sales</th>\n",
       "      <th>operating_profit</th>\n",
       "      <th>sales_method</th>\n",
       "    </tr>\n",
       "  </thead>\n",
       "  <tbody>\n",
       "    <tr>\n",
       "      <th>0</th>\n",
       "      <td>West Gear</td>\n",
       "      <td>1128299</td>\n",
       "      <td>1/1/21</td>\n",
       "      <td>West</td>\n",
       "      <td>California</td>\n",
       "      <td>San Francisco</td>\n",
       "      <td>Men's Athletic Footwear</td>\n",
       "      <td>65</td>\n",
       "      <td>750</td>\n",
       "      <td>487500</td>\n",
       "      <td>121875.00</td>\n",
       "      <td>Outlet</td>\n",
       "    </tr>\n",
       "    <tr>\n",
       "      <th>1</th>\n",
       "      <td>West Gear</td>\n",
       "      <td>1128299</td>\n",
       "      <td>1/1/21</td>\n",
       "      <td>West</td>\n",
       "      <td>California</td>\n",
       "      <td>San Francisco</td>\n",
       "      <td>Men's Athletic Footwear</td>\n",
       "      <td>51</td>\n",
       "      <td>233</td>\n",
       "      <td>11883</td>\n",
       "      <td>3208.41</td>\n",
       "      <td>Outlet</td>\n",
       "    </tr>\n",
       "    <tr>\n",
       "      <th>2</th>\n",
       "      <td>Kohl's</td>\n",
       "      <td>1189833</td>\n",
       "      <td>1/1/21</td>\n",
       "      <td>Midwest</td>\n",
       "      <td>Montana</td>\n",
       "      <td>Billings</td>\n",
       "      <td>Men's Apparel</td>\n",
       "      <td>50</td>\n",
       "      <td>275</td>\n",
       "      <td>137500</td>\n",
       "      <td>82500.00</td>\n",
       "      <td>Outlet</td>\n",
       "    </tr>\n",
       "    <tr>\n",
       "      <th>3</th>\n",
       "      <td>Kohl's</td>\n",
       "      <td>1189833</td>\n",
       "      <td>1/1/21</td>\n",
       "      <td>Midwest</td>\n",
       "      <td>Montana</td>\n",
       "      <td>Billings</td>\n",
       "      <td>Men's Apparel</td>\n",
       "      <td>47</td>\n",
       "      <td>77</td>\n",
       "      <td>3619</td>\n",
       "      <td>2714.25</td>\n",
       "      <td>Online</td>\n",
       "    </tr>\n",
       "    <tr>\n",
       "      <th>4</th>\n",
       "      <td>West Gear</td>\n",
       "      <td>1128299</td>\n",
       "      <td>1/1/21</td>\n",
       "      <td>West</td>\n",
       "      <td>California</td>\n",
       "      <td>San Francisco</td>\n",
       "      <td>Men's Athletic Footwear</td>\n",
       "      <td>64</td>\n",
       "      <td>225</td>\n",
       "      <td>14400</td>\n",
       "      <td>5184.00</td>\n",
       "      <td>Online</td>\n",
       "    </tr>\n",
       "    <tr>\n",
       "      <th>...</th>\n",
       "      <td>...</td>\n",
       "      <td>...</td>\n",
       "      <td>...</td>\n",
       "      <td>...</td>\n",
       "      <td>...</td>\n",
       "      <td>...</td>\n",
       "      <td>...</td>\n",
       "      <td>...</td>\n",
       "      <td>...</td>\n",
       "      <td>...</td>\n",
       "      <td>...</td>\n",
       "      <td>...</td>\n",
       "    </tr>\n",
       "    <tr>\n",
       "      <th>8341</th>\n",
       "      <td>Foot Locker</td>\n",
       "      <td>1185732</td>\n",
       "      <td>12/31/21</td>\n",
       "      <td>Northeast</td>\n",
       "      <td>Pennsylvania</td>\n",
       "      <td>Philadelphia</td>\n",
       "      <td>Men's Apparel</td>\n",
       "      <td>63</td>\n",
       "      <td>47</td>\n",
       "      <td>2961</td>\n",
       "      <td>1362.06</td>\n",
       "      <td>Online</td>\n",
       "    </tr>\n",
       "    <tr>\n",
       "      <th>8342</th>\n",
       "      <td>Foot Locker</td>\n",
       "      <td>1185732</td>\n",
       "      <td>12/31/21</td>\n",
       "      <td>Northeast</td>\n",
       "      <td>Pennsylvania</td>\n",
       "      <td>Philadelphia</td>\n",
       "      <td>Men's Apparel</td>\n",
       "      <td>46</td>\n",
       "      <td>56</td>\n",
       "      <td>2576</td>\n",
       "      <td>1004.64</td>\n",
       "      <td>Outlet</td>\n",
       "    </tr>\n",
       "    <tr>\n",
       "      <th>8343</th>\n",
       "      <td>Amazon</td>\n",
       "      <td>1185732</td>\n",
       "      <td>12/31/21</td>\n",
       "      <td>Northeast</td>\n",
       "      <td>Maine</td>\n",
       "      <td>Portland</td>\n",
       "      <td>Men's Apparel</td>\n",
       "      <td>52</td>\n",
       "      <td>36</td>\n",
       "      <td>1872</td>\n",
       "      <td>692.64</td>\n",
       "      <td>Online</td>\n",
       "    </tr>\n",
       "    <tr>\n",
       "      <th>8344</th>\n",
       "      <td>Amazon</td>\n",
       "      <td>1185732</td>\n",
       "      <td>12/31/21</td>\n",
       "      <td>Northeast</td>\n",
       "      <td>Maine</td>\n",
       "      <td>Portland</td>\n",
       "      <td>Men's Apparel</td>\n",
       "      <td>55</td>\n",
       "      <td>125</td>\n",
       "      <td>68750</td>\n",
       "      <td>17187.50</td>\n",
       "      <td>Outlet</td>\n",
       "    </tr>\n",
       "    <tr>\n",
       "      <th>8345</th>\n",
       "      <td>Foot Locker</td>\n",
       "      <td>1185732</td>\n",
       "      <td>12/31/21</td>\n",
       "      <td>Northeast</td>\n",
       "      <td>Pennsylvania</td>\n",
       "      <td>Philadelphia</td>\n",
       "      <td>Men's Apparel</td>\n",
       "      <td>70</td>\n",
       "      <td>175</td>\n",
       "      <td>122500</td>\n",
       "      <td>42875.00</td>\n",
       "      <td>Outlet</td>\n",
       "    </tr>\n",
       "  </tbody>\n",
       "</table>\n",
       "<p>8346 rows × 12 columns</p>\n",
       "</div>"
      ],
      "text/plain": [
       "         retailer  retailer_id invoice_date     region         state  \\\n",
       "0       West Gear      1128299       1/1/21       West    California   \n",
       "1       West Gear      1128299       1/1/21       West    California   \n",
       "2          Kohl's      1189833       1/1/21    Midwest       Montana   \n",
       "3          Kohl's      1189833       1/1/21    Midwest       Montana   \n",
       "4       West Gear      1128299       1/1/21       West    California   \n",
       "...           ...          ...          ...        ...           ...   \n",
       "8341  Foot Locker      1185732     12/31/21  Northeast  Pennsylvania   \n",
       "8342  Foot Locker      1185732     12/31/21  Northeast  Pennsylvania   \n",
       "8343       Amazon      1185732     12/31/21  Northeast         Maine   \n",
       "8344       Amazon      1185732     12/31/21  Northeast         Maine   \n",
       "8345  Foot Locker      1185732     12/31/21  Northeast  Pennsylvania   \n",
       "\n",
       "               city                  product  price_per_unit  units_sold  \\\n",
       "0     San Francisco  Men's Athletic Footwear              65         750   \n",
       "1     San Francisco  Men's Athletic Footwear              51         233   \n",
       "2          Billings            Men's Apparel              50         275   \n",
       "3          Billings            Men's Apparel              47          77   \n",
       "4     San Francisco  Men's Athletic Footwear              64         225   \n",
       "...             ...                      ...             ...         ...   \n",
       "8341   Philadelphia            Men's Apparel              63          47   \n",
       "8342   Philadelphia            Men's Apparel              46          56   \n",
       "8343       Portland            Men's Apparel              52          36   \n",
       "8344       Portland            Men's Apparel              55         125   \n",
       "8345   Philadelphia            Men's Apparel              70         175   \n",
       "\n",
       "      total_sales  operating_profit sales_method  \n",
       "0          487500         121875.00       Outlet  \n",
       "1           11883           3208.41       Outlet  \n",
       "2          137500          82500.00       Outlet  \n",
       "3            3619           2714.25       Online  \n",
       "4           14400           5184.00       Online  \n",
       "...           ...               ...          ...  \n",
       "8341         2961           1362.06       Online  \n",
       "8342         2576           1004.64       Outlet  \n",
       "8343         1872            692.64       Online  \n",
       "8344        68750          17187.50       Outlet  \n",
       "8345       122500          42875.00       Outlet  \n",
       "\n",
       "[8346 rows x 12 columns]"
      ]
     },
     "execution_count": 162,
     "metadata": {},
     "output_type": "execute_result"
    }
   ],
   "source": [
    "# Display the 2021 sales DataFrame\n",
    "df_2021"
   ]
  },
  {
   "cell_type": "markdown",
   "metadata": {},
   "source": [
    "#### Check the data types of each DataFrame"
   ]
  },
  {
   "cell_type": "code",
   "execution_count": 163,
   "metadata": {},
   "outputs": [
    {
     "name": "stdout",
     "output_type": "stream",
     "text": [
      "<class 'pandas.core.frame.DataFrame'>\n",
      "RangeIndex: 1297 entries, 0 to 1296\n",
      "Data columns (total 12 columns):\n",
      " #   Column            Non-Null Count  Dtype  \n",
      "---  ------            --------------  -----  \n",
      " 0   retailer          1297 non-null   object \n",
      " 1   retailer_id       1297 non-null   int64  \n",
      " 2   invoice_date      1297 non-null   object \n",
      " 3   region            1297 non-null   object \n",
      " 4   state             1297 non-null   object \n",
      " 5   city              1297 non-null   object \n",
      " 6   product           1297 non-null   object \n",
      " 7   price_per_unit    1297 non-null   int64  \n",
      " 8   units_sold        1297 non-null   int64  \n",
      " 9   total_sales       1297 non-null   int64  \n",
      " 10  operating_profit  1297 non-null   float64\n",
      " 11  sales_method      1297 non-null   object \n",
      "dtypes: float64(1), int64(4), object(7)\n",
      "memory usage: 121.7+ KB\n"
     ]
    }
   ],
   "source": [
    "# Check the 2020 sales data types.\n",
    "df_2020.info()"
   ]
  },
  {
   "cell_type": "code",
   "execution_count": 164,
   "metadata": {},
   "outputs": [
    {
     "name": "stdout",
     "output_type": "stream",
     "text": [
      "<class 'pandas.core.frame.DataFrame'>\n",
      "RangeIndex: 8346 entries, 0 to 8345\n",
      "Data columns (total 12 columns):\n",
      " #   Column            Non-Null Count  Dtype  \n",
      "---  ------            --------------  -----  \n",
      " 0   retailer          8346 non-null   object \n",
      " 1   retailer_id       8346 non-null   int64  \n",
      " 2   invoice_date      8346 non-null   object \n",
      " 3   region            8346 non-null   object \n",
      " 4   state             8346 non-null   object \n",
      " 5   city              8346 non-null   object \n",
      " 6   product           8346 non-null   object \n",
      " 7   price_per_unit    8346 non-null   int64  \n",
      " 8   units_sold        8346 non-null   int64  \n",
      " 9   total_sales       8346 non-null   int64  \n",
      " 10  operating_profit  8346 non-null   float64\n",
      " 11  sales_method      8346 non-null   object \n",
      "dtypes: float64(1), int64(4), object(7)\n",
      "memory usage: 782.6+ KB\n"
     ]
    }
   ],
   "source": [
    "# Check the 2021 sales data types.\n",
    "df_2021.info()"
   ]
  },
  {
   "cell_type": "markdown",
   "metadata": {},
   "source": [
    "#### Combine the sales data by rows."
   ]
  },
  {
   "cell_type": "code",
   "execution_count": 165,
   "metadata": {},
   "outputs": [
    {
     "data": {
      "text/html": [
       "<div>\n",
       "<style scoped>\n",
       "    .dataframe tbody tr th:only-of-type {\n",
       "        vertical-align: middle;\n",
       "    }\n",
       "\n",
       "    .dataframe tbody tr th {\n",
       "        vertical-align: top;\n",
       "    }\n",
       "\n",
       "    .dataframe thead th {\n",
       "        text-align: right;\n",
       "    }\n",
       "</style>\n",
       "<table border=\"1\" class=\"dataframe\">\n",
       "  <thead>\n",
       "    <tr style=\"text-align: right;\">\n",
       "      <th></th>\n",
       "      <th>retailer</th>\n",
       "      <th>retailer_id</th>\n",
       "      <th>invoice_date</th>\n",
       "      <th>region</th>\n",
       "      <th>state</th>\n",
       "      <th>city</th>\n",
       "      <th>product</th>\n",
       "      <th>price_per_unit</th>\n",
       "      <th>units_sold</th>\n",
       "      <th>total_sales</th>\n",
       "      <th>operating_profit</th>\n",
       "      <th>sales_method</th>\n",
       "    </tr>\n",
       "  </thead>\n",
       "  <tbody>\n",
       "    <tr>\n",
       "      <th>0</th>\n",
       "      <td>Foot Locker</td>\n",
       "      <td>1185732</td>\n",
       "      <td>1/1/20</td>\n",
       "      <td>Northeast</td>\n",
       "      <td>New York</td>\n",
       "      <td>New York</td>\n",
       "      <td>Men's Street Footwear</td>\n",
       "      <td>50</td>\n",
       "      <td>1200</td>\n",
       "      <td>600000</td>\n",
       "      <td>300000.00</td>\n",
       "      <td>In-store</td>\n",
       "    </tr>\n",
       "    <tr>\n",
       "      <th>1</th>\n",
       "      <td>Foot Locker</td>\n",
       "      <td>1185732</td>\n",
       "      <td>1/1/20</td>\n",
       "      <td>Northeast</td>\n",
       "      <td>Pennsylvania</td>\n",
       "      <td>Philadelphia</td>\n",
       "      <td>Women's Apparel</td>\n",
       "      <td>68</td>\n",
       "      <td>83</td>\n",
       "      <td>5644</td>\n",
       "      <td>2426.92</td>\n",
       "      <td>Online</td>\n",
       "    </tr>\n",
       "    <tr>\n",
       "      <th>2</th>\n",
       "      <td>Foot Locker</td>\n",
       "      <td>1185732</td>\n",
       "      <td>1/1/20</td>\n",
       "      <td>Northeast</td>\n",
       "      <td>Pennsylvania</td>\n",
       "      <td>Philadelphia</td>\n",
       "      <td>Women's Apparel</td>\n",
       "      <td>75</td>\n",
       "      <td>275</td>\n",
       "      <td>206250</td>\n",
       "      <td>61875.00</td>\n",
       "      <td>Outlet</td>\n",
       "    </tr>\n",
       "    <tr>\n",
       "      <th>3</th>\n",
       "      <td>Foot Locker</td>\n",
       "      <td>1185732</td>\n",
       "      <td>1/1/20</td>\n",
       "      <td>Northeast</td>\n",
       "      <td>New York</td>\n",
       "      <td>New York</td>\n",
       "      <td>Men's Street Footwear</td>\n",
       "      <td>34</td>\n",
       "      <td>384</td>\n",
       "      <td>13056</td>\n",
       "      <td>6789.12</td>\n",
       "      <td>Outlet</td>\n",
       "    </tr>\n",
       "    <tr>\n",
       "      <th>4</th>\n",
       "      <td>Foot Locker</td>\n",
       "      <td>1185732</td>\n",
       "      <td>1/1/20</td>\n",
       "      <td>Northeast</td>\n",
       "      <td>Pennsylvania</td>\n",
       "      <td>Philadelphia</td>\n",
       "      <td>Women's Apparel</td>\n",
       "      <td>53</td>\n",
       "      <td>83</td>\n",
       "      <td>4399</td>\n",
       "      <td>1407.68</td>\n",
       "      <td>Outlet</td>\n",
       "    </tr>\n",
       "    <tr>\n",
       "      <th>...</th>\n",
       "      <td>...</td>\n",
       "      <td>...</td>\n",
       "      <td>...</td>\n",
       "      <td>...</td>\n",
       "      <td>...</td>\n",
       "      <td>...</td>\n",
       "      <td>...</td>\n",
       "      <td>...</td>\n",
       "      <td>...</td>\n",
       "      <td>...</td>\n",
       "      <td>...</td>\n",
       "      <td>...</td>\n",
       "    </tr>\n",
       "    <tr>\n",
       "      <th>9638</th>\n",
       "      <td>Foot Locker</td>\n",
       "      <td>1185732</td>\n",
       "      <td>12/31/21</td>\n",
       "      <td>Northeast</td>\n",
       "      <td>Pennsylvania</td>\n",
       "      <td>Philadelphia</td>\n",
       "      <td>Men's Apparel</td>\n",
       "      <td>63</td>\n",
       "      <td>47</td>\n",
       "      <td>2961</td>\n",
       "      <td>1362.06</td>\n",
       "      <td>Online</td>\n",
       "    </tr>\n",
       "    <tr>\n",
       "      <th>9639</th>\n",
       "      <td>Foot Locker</td>\n",
       "      <td>1185732</td>\n",
       "      <td>12/31/21</td>\n",
       "      <td>Northeast</td>\n",
       "      <td>Pennsylvania</td>\n",
       "      <td>Philadelphia</td>\n",
       "      <td>Men's Apparel</td>\n",
       "      <td>46</td>\n",
       "      <td>56</td>\n",
       "      <td>2576</td>\n",
       "      <td>1004.64</td>\n",
       "      <td>Outlet</td>\n",
       "    </tr>\n",
       "    <tr>\n",
       "      <th>9640</th>\n",
       "      <td>Amazon</td>\n",
       "      <td>1185732</td>\n",
       "      <td>12/31/21</td>\n",
       "      <td>Northeast</td>\n",
       "      <td>Maine</td>\n",
       "      <td>Portland</td>\n",
       "      <td>Men's Apparel</td>\n",
       "      <td>52</td>\n",
       "      <td>36</td>\n",
       "      <td>1872</td>\n",
       "      <td>692.64</td>\n",
       "      <td>Online</td>\n",
       "    </tr>\n",
       "    <tr>\n",
       "      <th>9641</th>\n",
       "      <td>Amazon</td>\n",
       "      <td>1185732</td>\n",
       "      <td>12/31/21</td>\n",
       "      <td>Northeast</td>\n",
       "      <td>Maine</td>\n",
       "      <td>Portland</td>\n",
       "      <td>Men's Apparel</td>\n",
       "      <td>55</td>\n",
       "      <td>125</td>\n",
       "      <td>68750</td>\n",
       "      <td>17187.50</td>\n",
       "      <td>Outlet</td>\n",
       "    </tr>\n",
       "    <tr>\n",
       "      <th>9642</th>\n",
       "      <td>Foot Locker</td>\n",
       "      <td>1185732</td>\n",
       "      <td>12/31/21</td>\n",
       "      <td>Northeast</td>\n",
       "      <td>Pennsylvania</td>\n",
       "      <td>Philadelphia</td>\n",
       "      <td>Men's Apparel</td>\n",
       "      <td>70</td>\n",
       "      <td>175</td>\n",
       "      <td>122500</td>\n",
       "      <td>42875.00</td>\n",
       "      <td>Outlet</td>\n",
       "    </tr>\n",
       "  </tbody>\n",
       "</table>\n",
       "<p>9643 rows × 12 columns</p>\n",
       "</div>"
      ],
      "text/plain": [
       "         retailer  retailer_id invoice_date     region         state  \\\n",
       "0     Foot Locker      1185732       1/1/20  Northeast      New York   \n",
       "1     Foot Locker      1185732       1/1/20  Northeast  Pennsylvania   \n",
       "2     Foot Locker      1185732       1/1/20  Northeast  Pennsylvania   \n",
       "3     Foot Locker      1185732       1/1/20  Northeast      New York   \n",
       "4     Foot Locker      1185732       1/1/20  Northeast  Pennsylvania   \n",
       "...           ...          ...          ...        ...           ...   \n",
       "9638  Foot Locker      1185732     12/31/21  Northeast  Pennsylvania   \n",
       "9639  Foot Locker      1185732     12/31/21  Northeast  Pennsylvania   \n",
       "9640       Amazon      1185732     12/31/21  Northeast         Maine   \n",
       "9641       Amazon      1185732     12/31/21  Northeast         Maine   \n",
       "9642  Foot Locker      1185732     12/31/21  Northeast  Pennsylvania   \n",
       "\n",
       "              city                product  price_per_unit  units_sold  \\\n",
       "0         New York  Men's Street Footwear              50        1200   \n",
       "1     Philadelphia        Women's Apparel              68          83   \n",
       "2     Philadelphia        Women's Apparel              75         275   \n",
       "3         New York  Men's Street Footwear              34         384   \n",
       "4     Philadelphia        Women's Apparel              53          83   \n",
       "...            ...                    ...             ...         ...   \n",
       "9638  Philadelphia          Men's Apparel              63          47   \n",
       "9639  Philadelphia          Men's Apparel              46          56   \n",
       "9640      Portland          Men's Apparel              52          36   \n",
       "9641      Portland          Men's Apparel              55         125   \n",
       "9642  Philadelphia          Men's Apparel              70         175   \n",
       "\n",
       "      total_sales  operating_profit sales_method  \n",
       "0          600000         300000.00     In-store  \n",
       "1            5644           2426.92       Online  \n",
       "2          206250          61875.00       Outlet  \n",
       "3           13056           6789.12       Outlet  \n",
       "4            4399           1407.68       Outlet  \n",
       "...           ...               ...          ...  \n",
       "9638         2961           1362.06       Online  \n",
       "9639         2576           1004.64       Outlet  \n",
       "9640         1872            692.64       Online  \n",
       "9641        68750          17187.50       Outlet  \n",
       "9642       122500          42875.00       Outlet  \n",
       "\n",
       "[9643 rows x 12 columns]"
      ]
     },
     "execution_count": 165,
     "metadata": {},
     "output_type": "execute_result"
    }
   ],
   "source": [
    "# Combine the 2020 and 2021 sales DataFrames on the rows and reset the index.\n",
    "df_combined = pd.concat([df_2020, df_2021], ignore_index=True)\n",
    "df_combined\n"
   ]
  },
  {
   "cell_type": "code",
   "execution_count": 166,
   "metadata": {},
   "outputs": [
    {
     "name": "stdout",
     "output_type": "stream",
     "text": [
      "retailer              Foot Locker\n",
      "retailer_id               1185732\n",
      "invoice_date             12/31/21\n",
      "region                  Northeast\n",
      "state                Pennsylvania\n",
      "city                 Philadelphia\n",
      "product             Men's Apparel\n",
      "price_per_unit                 70\n",
      "units_sold                    175\n",
      "total_sales                122500\n",
      "operating_profit          42875.0\n",
      "sales_method               Outlet\n",
      "Name: 9642, dtype: object\n"
     ]
    }
   ],
   "source": [
    "print(df_combined.iloc[9642])"
   ]
  },
  {
   "cell_type": "code",
   "execution_count": 167,
   "metadata": {},
   "outputs": [
    {
     "data": {
      "text/plain": [
       "retailer            0\n",
       "retailer_id         0\n",
       "invoice_date        0\n",
       "region              0\n",
       "state               0\n",
       "city                0\n",
       "product             0\n",
       "price_per_unit      0\n",
       "units_sold          0\n",
       "total_sales         0\n",
       "operating_profit    0\n",
       "sales_method        0\n",
       "dtype: int64"
      ]
     },
     "execution_count": 167,
     "metadata": {},
     "output_type": "execute_result"
    }
   ],
   "source": [
    "# Check if any values are null.\n",
    "df_combined.isnull().sum()\n"
   ]
  },
  {
   "cell_type": "code",
   "execution_count": 168,
   "metadata": {},
   "outputs": [
    {
     "data": {
      "text/plain": [
       "retailer            0.0\n",
       "retailer_id         0.0\n",
       "invoice_date        0.0\n",
       "region              0.0\n",
       "state               0.0\n",
       "city                0.0\n",
       "product             0.0\n",
       "price_per_unit      0.0\n",
       "units_sold          0.0\n",
       "total_sales         0.0\n",
       "operating_profit    0.0\n",
       "sales_method        0.0\n",
       "dtype: float64"
      ]
     },
     "execution_count": 168,
     "metadata": {},
     "output_type": "execute_result"
    }
   ],
   "source": [
    "#AGK Extra: find the percentage that is null\n",
    "df_combined.isnull().mean() * 100"
   ]
  },
  {
   "cell_type": "code",
   "execution_count": 169,
   "metadata": {},
   "outputs": [
    {
     "name": "stdout",
     "output_type": "stream",
     "text": [
      "<class 'pandas.core.frame.DataFrame'>\n",
      "RangeIndex: 9643 entries, 0 to 9642\n",
      "Data columns (total 12 columns):\n",
      " #   Column            Non-Null Count  Dtype  \n",
      "---  ------            --------------  -----  \n",
      " 0   retailer          9643 non-null   object \n",
      " 1   retailer_id       9643 non-null   int64  \n",
      " 2   invoice_date      9643 non-null   object \n",
      " 3   region            9643 non-null   object \n",
      " 4   state             9643 non-null   object \n",
      " 5   city              9643 non-null   object \n",
      " 6   product           9643 non-null   object \n",
      " 7   price_per_unit    9643 non-null   int64  \n",
      " 8   units_sold        9643 non-null   int64  \n",
      " 9   total_sales       9643 non-null   int64  \n",
      " 10  operating_profit  9643 non-null   float64\n",
      " 11  sales_method      9643 non-null   object \n",
      "dtypes: float64(1), int64(4), object(7)\n",
      "memory usage: 904.2+ KB\n"
     ]
    }
   ],
   "source": [
    "# Check the data type of each column\n",
    "df_combined.info()"
   ]
  },
  {
   "cell_type": "code",
   "execution_count": 170,
   "metadata": {},
   "outputs": [
    {
     "name": "stdout",
     "output_type": "stream",
     "text": [
      "retailer                        West Gear\n",
      "retailer_id                       1128299\n",
      "invoice_date                      2/19/20\n",
      "region                               West\n",
      "state                              Nevada\n",
      "city                            Las Vegas\n",
      "product             Men's Street Footwear\n",
      "price_per_unit                         41\n",
      "units_sold                            186\n",
      "total_sales                          7626\n",
      "operating_profit                  2897.88\n",
      "sales_method                       Outlet\n",
      "Name: 235, dtype: object\n"
     ]
    },
    {
     "data": {
      "text/plain": [
       "retailer                        West Gear\n",
       "retailer_id                       1128299\n",
       "invoice_date                      2/19/20\n",
       "region                               West\n",
       "state                              Nevada\n",
       "city                            Las Vegas\n",
       "product             Men's Street Footwear\n",
       "price_per_unit                         41\n",
       "units_sold                            186\n",
       "total_sales                          7626\n",
       "operating_profit                  2897.88\n",
       "sales_method                       Outlet\n",
       "invoice_date_fmt               2020-02-19\n",
       "Name: 235, dtype: object"
      ]
     },
     "execution_count": 170,
     "metadata": {},
     "output_type": "execute_result"
    }
   ],
   "source": [
    "# Convert the \"invoice_date\" to a datetime datatype\n",
    "print(df_combined.iloc[235])\n",
    "df_combined['invoice_date_fmt'] = pd.to_datetime(df['invoice_date'], format='mixed').dt.date\n",
    "df_combined.iloc[235]"
   ]
  },
  {
   "cell_type": "code",
   "execution_count": 171,
   "metadata": {},
   "outputs": [
    {
     "name": "stdout",
     "output_type": "stream",
     "text": [
      "<class 'pandas.core.frame.DataFrame'>\n",
      "RangeIndex: 9643 entries, 0 to 9642\n",
      "Data columns (total 13 columns):\n",
      " #   Column            Non-Null Count  Dtype  \n",
      "---  ------            --------------  -----  \n",
      " 0   retailer          9643 non-null   object \n",
      " 1   retailer_id       9643 non-null   int64  \n",
      " 2   invoice_date      9643 non-null   object \n",
      " 3   region            9643 non-null   object \n",
      " 4   state             9643 non-null   object \n",
      " 5   city              9643 non-null   object \n",
      " 6   product           9643 non-null   object \n",
      " 7   price_per_unit    9643 non-null   int64  \n",
      " 8   units_sold        9643 non-null   int64  \n",
      " 9   total_sales       9643 non-null   int64  \n",
      " 10  operating_profit  9643 non-null   float64\n",
      " 11  sales_method      9643 non-null   object \n",
      " 12  invoice_date_fmt  1297 non-null   object \n",
      "dtypes: float64(1), int64(4), object(8)\n",
      "memory usage: 979.5+ KB\n"
     ]
    }
   ],
   "source": [
    "# Confirm that the \"invoice_date\" data type has been changed.\n",
    "df_combined.info()"
   ]
  },
  {
   "cell_type": "markdown",
   "metadata": {},
   "source": [
    "### 2. Determine which Region Sold the Most Products"
   ]
  },
  {
   "cell_type": "markdown",
   "metadata": {},
   "source": [
    "#### Using `groupby`"
   ]
  },
  {
   "cell_type": "code",
   "execution_count": 172,
   "metadata": {},
   "outputs": [
    {
     "name": "stdout",
     "output_type": "stream",
     "text": [
      "       region       state           city  Total_Products_Sold\n",
      "21  Northeast    New York       New York               111954\n",
      "33      South       Texas        Houston                90322\n",
      "44       West  California  San Francisco                85478\n",
      "43       West  California    Los Angeles                76384\n",
      "34  Southeast     Florida          Miami                73135\n"
     ]
    }
   ],
   "source": [
    "# Show the number products sold for region, state, and city.\n",
    "# Rename the sum to \"Total_Products_Sold\".\n",
    "\n",
    "product_count = df_combined.groupby(['region', 'state', 'city'])['units_sold'].sum().reset_index(name='Total_Products_Sold')\n",
    "product_count = product_count.sort_values(by='Total_Products_Sold', ascending=False)\n",
    "print(product_count.head(5))\n",
    "# # Show the top 5 results.\n"
   ]
  },
  {
   "cell_type": "markdown",
   "metadata": {},
   "source": [
    "#### Using `pivot_table`"
   ]
  },
  {
   "cell_type": "code",
   "execution_count": 176,
   "metadata": {},
   "outputs": [
    {
     "name": "stdout",
     "output_type": "stream",
     "text": [
      "       region       state           city  Total_Products_Sold\n",
      "21  Northeast    New York       New York               111954\n",
      "33      South       Texas        Houston                90322\n",
      "44       West  California  San Francisco                85478\n",
      "43       West  California    Los Angeles                76384\n",
      "34  Southeast     Florida          Miami                73135\n"
     ]
    }
   ],
   "source": [
    "# Show the number products sold for region, state, and city.\n",
    "pivot = df_combined.pivot_table(index=['region', 'state', 'city'], values='units_sold', aggfunc='sum')\n",
    "pivot = pivot.reset_index()\n",
    "\n",
    "# # Rename the \"units_sold\" column to \"Total_Products_Sold\"\n",
    "pivot = pivot.rename(columns={'units_sold': 'Total_Products_Sold'})\n",
    "\n",
    "# # Show the top 5 results.\n",
    "pivot = pivot.sort_values(by='Total_Products_Sold', ascending=False).head(5)\n",
    "\n",
    "print(pivot)"
   ]
  },
  {
   "cell_type": "markdown",
   "metadata": {},
   "source": [
    "### 3. Determine which Region had the Most Sales"
   ]
  },
  {
   "cell_type": "markdown",
   "metadata": {},
   "source": [
    "#### Using `groupby`"
   ]
  },
  {
   "cell_type": "code",
   "execution_count": 174,
   "metadata": {},
   "outputs": [
    {
     "name": "stdout",
     "output_type": "stream",
     "text": [
      "       region           state           city  Total Sales\n",
      "21  Northeast        New York       New York     39801235\n",
      "44       West      California  San Francisco     33973228\n",
      "34  Southeast         Florida          Miami     31600863\n",
      "39  Southeast  South Carolina     Charleston     29285637\n",
      "35  Southeast         Florida        Orlando     27682851\n"
     ]
    }
   ],
   "source": [
    "# Show the total sales for the products sold for each region, state, and city.\n",
    "# Rename the \"total_sales\" column to \"Total Sales\"\n",
    "sales = df_combined.groupby(['region', 'state', 'city'])['total_sales'].sum().reset_index(name='Total Sales')\n",
    "sales = sales.sort_values(by='Total Sales', ascending=False)\n",
    "\n",
    "\n",
    "# Show the top 5 results.\n",
    "print(sales.head(5))"
   ]
  },
  {
   "cell_type": "markdown",
   "metadata": {},
   "source": [
    "#### Using `pivot_table`"
   ]
  },
  {
   "cell_type": "code",
   "execution_count": 178,
   "metadata": {},
   "outputs": [
    {
     "name": "stdout",
     "output_type": "stream",
     "text": [
      "       region           state           city  Total Sales\n",
      "21  Northeast        New York       New York     39801235\n",
      "44       West      California  San Francisco     33973228\n",
      "34  Southeast         Florida          Miami     31600863\n",
      "39  Southeast  South Carolina     Charleston     29285637\n",
      "35  Southeast         Florida        Orlando     27682851\n"
     ]
    }
   ],
   "source": [
    "# Show the total sales for the products sold for each region, state, and city.\n",
    "pivot = df_combined.pivot_table(index=['region', 'state', 'city'], values='total_sales', aggfunc='sum')\n",
    "pivot = pivot.reset_index()\n",
    "\n",
    "\n",
    "# Optional: Rename the \"total_sales\" column to \"Total Sales\"\n",
    "pivot = pivot.rename(columns={'total_sales': 'Total Sales'})\n",
    "\n",
    "# Show the top 5 results.\n",
    "pivot = pivot.sort_values(by='Total Sales', ascending=False).head(5)\n",
    "print(pivot)"
   ]
  },
  {
   "cell_type": "markdown",
   "metadata": {},
   "source": [
    "### 4. Determine which Retailer had the Most Sales"
   ]
  },
  {
   "cell_type": "markdown",
   "metadata": {},
   "source": [
    "#### Using `groupby`"
   ]
  },
  {
   "cell_type": "code",
   "execution_count": 182,
   "metadata": {},
   "outputs": [
    {
     "name": "stdout",
     "output_type": "stream",
     "text": [
      "        retailer     region           state           city  Total Sales\n",
      "103    West Gear       West      California  San Francisco     32794405\n",
      "50        Kohl's       West      California    Los Angeles     25127160\n",
      "22   Foot Locker  Northeast        New York       New York     25008568\n",
      "109    West Gear       West      Washington        Seattle     24862675\n",
      "33   Foot Locker  Southeast  South Carolina     Charleston     24822280\n"
     ]
    }
   ],
   "source": [
    "# Show the total sales for the products sold for each retailer, region, state, and city.\n",
    "# Rename the \"total_sales\" column to \"Total Sales\"\n",
    "# df_combined.info()\n",
    "sales = df_combined.groupby(['retailer', 'region', 'state', 'city'])['total_sales'].sum().reset_index(name='Total Sales')\n",
    "sales = sales.sort_values(by='Total Sales', ascending=False)\n",
    "\n",
    "# Show the top 5 results.\n",
    "print(sales.head(5))\n"
   ]
  },
  {
   "cell_type": "markdown",
   "metadata": {},
   "source": [
    "#### Using `pivot_table`"
   ]
  },
  {
   "cell_type": "code",
   "execution_count": 183,
   "metadata": {},
   "outputs": [
    {
     "name": "stdout",
     "output_type": "stream",
     "text": [
      "        retailer     region           state           city  Total Sales\n",
      "103    West Gear       West      California  San Francisco     32794405\n",
      "50        Kohl's       West      California    Los Angeles     25127160\n",
      "22   Foot Locker  Northeast        New York       New York     25008568\n",
      "109    West Gear       West      Washington        Seattle     24862675\n",
      "33   Foot Locker  Southeast  South Carolina     Charleston     24822280\n"
     ]
    }
   ],
   "source": [
    "# Show the total sales for the products sold for each retailer, region, state, and city.\n",
    "pivot = df_combined.pivot_table(index=['retailer', 'region', 'state', 'city'], values='total_sales', aggfunc='sum')\n",
    "pivot = pivot.reset_index()\n",
    "\n",
    "# Optional: Rename the \"total_sales\" column to \"Total Sales\"\n",
    "pivot = pivot.rename(columns={'total_sales': 'Total Sales'})\n",
    "\n",
    "# Show the top 5 results.\n",
    "pivot = pivot.sort_values(by='Total Sales', ascending=False).head(5)\n",
    "print(pivot)"
   ]
  },
  {
   "cell_type": "markdown",
   "metadata": {},
   "source": [
    "### 5. Determine which Retailer Sold the Most Women's Athletic Footwear"
   ]
  },
  {
   "cell_type": "code",
   "execution_count": 192,
   "metadata": {},
   "outputs": [
    {
     "name": "stdout",
     "output_type": "stream",
     "text": [
      "<class 'pandas.core.frame.DataFrame'>\n",
      "Index: 1604 entries, 21 to 9637\n",
      "Data columns (total 13 columns):\n",
      " #   Column            Non-Null Count  Dtype  \n",
      "---  ------            --------------  -----  \n",
      " 0   retailer          1604 non-null   object \n",
      " 1   retailer_id       1604 non-null   int64  \n",
      " 2   invoice_date      1604 non-null   object \n",
      " 3   region            1604 non-null   object \n",
      " 4   state             1604 non-null   object \n",
      " 5   city              1604 non-null   object \n",
      " 6   product           1604 non-null   object \n",
      " 7   price_per_unit    1604 non-null   int64  \n",
      " 8   units_sold        1604 non-null   int64  \n",
      " 9   total_sales       1604 non-null   int64  \n",
      " 10  operating_profit  1604 non-null   float64\n",
      " 11  sales_method      1604 non-null   object \n",
      " 12  invoice_date_fmt  214 non-null    object \n",
      "dtypes: float64(1), int64(4), object(8)\n",
      "memory usage: 175.4+ KB\n",
      "None\n"
     ]
    }
   ],
   "source": [
    "# Filter the sales data to get the women's athletic footwear sales data.\n",
    "womans_footwear = df_combined[df_combined['product'] ==  \"Women's Athletic Footwear\" ]\n",
    "\n",
    "print(womans_footwear.info())"
   ]
  },
  {
   "cell_type": "markdown",
   "metadata": {},
   "source": [
    "#### Using `groupby`"
   ]
  },
  {
   "cell_type": "code",
   "execution_count": 193,
   "metadata": {},
   "outputs": [
    {
     "name": "stdout",
     "output_type": "stream",
     "text": [
      "          retailer     region           state           city  \\\n",
      "101      West Gear       West      California  San Francisco   \n",
      "22     Foot Locker  Northeast        New York       New York   \n",
      "49          Kohl's       West      California    Los Angeles   \n",
      "33     Foot Locker  Southeast  South Carolina     Charleston   \n",
      "68   Sports Direct      South           Texas         Dallas   \n",
      "\n",
      "     Womens_Footwear_Units_Sold  \n",
      "101                       12107  \n",
      "22                        10996  \n",
      "49                        10826  \n",
      "33                         8814  \n",
      "68                         8790  \n"
     ]
    }
   ],
   "source": [
    "# Show the total number of women's athletic footwear sold for each retailer, region, state, and city.\n",
    "# Rename the \"units_sold\" column to \"Womens_Footwear_Units_Sold\"\n",
    "\n",
    "sales = womans_footwear.groupby(['retailer', 'region', 'state', 'city'])['units_sold'].sum().reset_index(name='Womens_Footwear_Units_Sold')\n",
    "sales = sales.sort_values(by='Womens_Footwear_Units_Sold', ascending=False)\n",
    "\n",
    "# Show the top 5 results.\n",
    "print(sales.head(5))"
   ]
  },
  {
   "cell_type": "markdown",
   "metadata": {},
   "source": [
    "#### Using `pivot_table`"
   ]
  },
  {
   "cell_type": "code",
   "execution_count": 194,
   "metadata": {},
   "outputs": [
    {
     "name": "stdout",
     "output_type": "stream",
     "text": [
      "          retailer     region           state           city  \\\n",
      "101      West Gear       West      California  San Francisco   \n",
      "22     Foot Locker  Northeast        New York       New York   \n",
      "49          Kohl's       West      California    Los Angeles   \n",
      "33     Foot Locker  Southeast  South Carolina     Charleston   \n",
      "68   Sports Direct      South           Texas         Dallas   \n",
      "\n",
      "     Womens_Footwear_Units_Sold  \n",
      "101                       12107  \n",
      "22                        10996  \n",
      "49                        10826  \n",
      "33                         8814  \n",
      "68                         8790  \n"
     ]
    }
   ],
   "source": [
    "# Show the total number of women's athletic footwear sold for each retailer, region, state, and city.\n",
    "\n",
    "pivot = womans_footwear.pivot_table(index=['retailer', 'region', 'state', 'city'], values='units_sold', aggfunc='sum')\n",
    "pivot = pivot.reset_index()\n",
    "\n",
    "# Rename the \"units_sold\" column to \"Womens_Footwear_Units_Sold\"\n",
    "pivot = pivot.rename(columns={'units_sold': 'Womens_Footwear_Units_Sold'})\n",
    "\n",
    "# Show the top 5 results.\n",
    "pivot = pivot.sort_values(by='Womens_Footwear_Units_Sold', ascending=False).head(5)\n",
    "print(pivot)"
   ]
  },
  {
   "cell_type": "markdown",
   "metadata": {},
   "source": [
    "### 6. Determine the Day with the Most Women's Athletic Footwear Sales"
   ]
  },
  {
   "cell_type": "code",
   "execution_count": null,
   "metadata": {},
   "outputs": [],
   "source": [
    "# Create a pivot table with the 'invoice_date' column is the index, and the \"total_sales\" as the values.\n",
    "\n",
    "\n",
    "# Optional: Rename the \"total_sales\" column to \"Total Sales\"\n",
    "\n",
    "\n",
    "# Show the table.\n"
   ]
  },
  {
   "cell_type": "code",
   "execution_count": null,
   "metadata": {},
   "outputs": [],
   "source": [
    "# Resample the pivot table into daily bins, and get the total sales for each day.\n",
    "\n",
    "\n",
    "# Sort the resampled pivot table in descending order on \"Total Sales\".\n"
   ]
  },
  {
   "cell_type": "markdown",
   "metadata": {},
   "source": [
    "### 7.  Determine the Week with the Most Women's Athletic Footwear Sales"
   ]
  },
  {
   "cell_type": "code",
   "execution_count": null,
   "metadata": {},
   "outputs": [],
   "source": [
    "# Resample the pivot table into weekly bins, and get the total sales for each week.\n",
    "\n",
    "\n",
    "# Sort the resampled pivot table in descending order on \"Total Sales\".\n"
   ]
  },
  {
   "cell_type": "code",
   "execution_count": null,
   "metadata": {},
   "outputs": [],
   "source": []
  }
 ],
 "metadata": {
  "kernelspec": {
   "display_name": "Python 3 (ipykernel)",
   "language": "python",
   "name": "python3"
  },
  "language_info": {
   "codemirror_mode": {
    "name": "ipython",
    "version": 3
   },
   "file_extension": ".py",
   "mimetype": "text/x-python",
   "name": "python",
   "nbconvert_exporter": "python",
   "pygments_lexer": "ipython3",
   "version": "3.12.4"
  }
 },
 "nbformat": 4,
 "nbformat_minor": 4
}
